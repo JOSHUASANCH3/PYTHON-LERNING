{
 "cells": [
  {
   "cell_type": "code",
   "execution_count": null,
   "id": "9f4bd371",
   "metadata": {},
   "outputs": [
    {
     "name": "stderr",
     "output_type": "stream",
     "text": [
      "BokehDeprecationWarning: 'triangle() method' was deprecated in Bokeh 3.4.0 and will be removed, use \"scatter(marker='triangle', ...) instead\" instead.\n"
     ]
    }
   ],
   "source": [
    "#First Interface With Bokeh\n",
    "#Importing the Bokeh library\n",
    "from bokeh.plotting import figure\n",
    "from bokeh.io import output_file, show\n",
    "\n",
    "#Creating new data for the plot\n",
    "x = [1, 2, 3, 4, 5]\n",
    "y = [6, 7, 2, 4, 5]\n",
    "\n",
    "#Prepare the output file\n",
    "path_file_bokeh = \"C:/Users/JOSHUASANCH3/Documents/_REPOSITORIES/PYTHON-GITHUB/PYTHON-LERNING/Curso de PYTHON para BLUIDING-APPS/Constuyendo 10 Aplicaciones en 10 dias/_test_jupyter/line.html\"\n",
    "output_file(path_file_bokeh)\n",
    "\n",
    "#Create a figure object\n",
    "bk_fg = figure()\n",
    "\n",
    "#Create a line plot\n",
    "bk_fg.triangle(x, y)\n",
    "\n",
    "show(bk_fg)\n"
   ]
  },
  {
   "cell_type": "code",
   "execution_count": null,
   "id": "5c4cc99c",
   "metadata": {},
   "outputs": [],
   "source": [
    "#First Interface With Bokeh And Pandas\n",
    "#Importing the Bokeh library\n",
    "from bokeh.plotting import figure\n",
    "from bokeh.io import output_file, show\n",
    "import pandas as pd\n",
    "\n",
    "#Prepare the data\n",
    "df = pd.read_csv('C:/Users/JOSHUASANCH3/Documents/_REPOSITORIES/PYTHON-GITHUB/PYTHON-LERNING/Curso de PYTHON para BLUIDING-APPS/Constuyendo 10 Aplicaciones en 10 dias/_test_jupyter/data.txt')\n",
    "\n",
    "# Strip leading/trailing spaces from column names\n",
    "df.columns = df.columns.str.strip()\n",
    "\n",
    "x = df[\"x\"]\n",
    "y = df[\"y\"]\n",
    "\n",
    "#Prepare the output file\n",
    "path_file_bokeh = \"C:/Users/JOSHUASANCH3/Documents/_REPOSITORIES/PYTHON-GITHUB/PYTHON-LERNING/Curso de PYTHON para BLUIDING-APPS/Constuyendo 10 Aplicaciones en 10 dias/_test_jupyter/line_from_csv.html\"\n",
    "output_file(path_file_bokeh)\n",
    "\n",
    "#Create a figure object\n",
    "bk_fg = figure()\n",
    "\n",
    "#Create a line plot\n",
    "bk_fg.line(x, y)\n",
    "\n",
    "show(bk_fg)\n"
   ]
  },
  {
   "cell_type": "markdown",
   "id": "08bc7a00",
   "metadata": {},
   "source": [
    "Wheater Data"
   ]
  },
  {
   "cell_type": "code",
   "execution_count": 16,
   "id": "53beea2e",
   "metadata": {},
   "outputs": [],
   "source": [
    "import pandas as pd\n",
    "from bokeh.plotting import figure, output_file, show\n",
    "from bokeh.models import Title\n",
    "\n",
    "# Leer datos desde enlace RAW de GitHub\n",
    "df = pd.read_excel(\"https://raw.githubusercontent.com/pythonizing/data/master/verlegenhuken.xlsx\", sheet_name=0)\n",
    "\n",
    "# Ajustar unidades\n",
    "df[\"Temperature\"] = df[\"Temperature\"] / 10\n",
    "df[\"Pressure\"] = df[\"Pressure\"] / 10\n",
    "\n",
    "# Crear figura\n",
    "p = figure(\n",
    "    width = 500,\n",
    "    height = 400,\n",
    "    tools='pan',\n",
    "    x_axis_label=\"Temperature (°C)\",\n",
    "    y_axis_label=\"Pressure (hPa)\"\n",
    ")\n",
    "\n",
    "# Estilo del título usando bokeh.models.Title\n",
    "p.title = Title(\n",
    "    text=\"Temperature and Air Pressure\",\n",
    "    text_color=\"gray\",\n",
    "    text_font=\"arial\",\n",
    "    text_font_style=\"bold\"\n",
    ")\n",
    "\n",
    "# Opcional: desactivar líneas menores de los ejes\n",
    "p.xaxis[0].minor_tick_line_color = None\n",
    "p.yaxis[0].minor_tick_line_color = None\n",
    "\n",
    "# Agregar los puntos como círculos\n",
    "p.scatter(\n",
    "    x=df[\"Temperature\"].tolist(),\n",
    "    y=df[\"Pressure\"].tolist(),\n",
    "    marker='circle',\n",
    "    size=5,\n",
    "    color=\"navy\",\n",
    "    alpha=0.6\n",
    ")\n",
    "\n",
    "# Exportar como archivo HTML\n",
    "path_file_bokeh = \"C:/Users/JOSHUASANCH3/Documents/_REPOSITORIES/PYTHON-GITHUB/PYTHON-LERNING/Curso de PYTHON para BLUIDING-APPS/Constuyendo 10 Aplicaciones en 10 dias/_test_jupyter/Weather.html\"\n",
    "output_file(path_file_bokeh)\n",
    "show(p)\n"
   ]
  }
 ],
 "metadata": {
  "kernelspec": {
   "display_name": "Python 3",
   "language": "python",
   "name": "python3"
  },
  "language_info": {
   "codemirror_mode": {
    "name": "ipython",
    "version": 3
   },
   "file_extension": ".py",
   "mimetype": "text/x-python",
   "name": "python",
   "nbconvert_exporter": "python",
   "pygments_lexer": "ipython3",
   "version": "3.13.2"
  }
 },
 "nbformat": 4,
 "nbformat_minor": 5
}
